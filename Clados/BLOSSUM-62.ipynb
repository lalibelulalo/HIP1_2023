{
 "cells": [
  {
   "cell_type": "code",
   "execution_count": 2,
   "id": "d972afb7",
   "metadata": {},
   "outputs": [],
   "source": [
    "import re\n",
    "import sys\n",
    "import blosum as bl\n",
    "mat = bl.BLOSUM(62)\n",
    "DEL = mat[\"-\"][\"-\"]"
   ]
  },
  {
   "cell_type": "code",
   "execution_count": 5,
   "id": "44288284",
   "metadata": {},
   "outputs": [
    {
     "data": {
      "text/plain": [
       "-inf"
      ]
     },
     "execution_count": 5,
     "metadata": {},
     "output_type": "execute_result"
    }
   ],
   "source": [
    "mat[\"L\"][\"_\"]"
   ]
  },
  {
   "cell_type": "code",
   "execution_count": 8,
   "id": "ca60b9cc",
   "metadata": {},
   "outputs": [
    {
     "data": {
      "text/plain": [
       "-inf"
      ]
     },
     "execution_count": 8,
     "metadata": {},
     "output_type": "execute_result"
    }
   ],
   "source": [
    "mat[\"-\"][\"L\"]"
   ]
  },
  {
   "cell_type": "code",
   "execution_count": 32,
   "id": "00a8badf",
   "metadata": {},
   "outputs": [],
   "source": [
    "FROM = 'GCGATCGCGATT'\n",
    "#A = range(0,3)\n",
    "#SA,EA,SB,EB,SC,EC = 0,3,3,6,6,9\n",
    "SA,EA,SB,EB,SC,EC,SD,ED = 0,3,3,6,6,9,9,12"
   ]
  },
  {
   "cell_type": "code",
   "execution_count": 33,
   "id": "f915028f",
   "metadata": {},
   "outputs": [
    {
     "name": "stdout",
     "output_type": "stream",
     "text": [
      "GCG-ATC-GCG-ATT\n"
     ]
    }
   ],
   "source": [
    "print('{}-{}-{}-{}'.format(FROM[SA:EA],FROM[SB:EB],FROM[SC:EC],FROM[SD:ED]))\n"
   ]
  },
  {
   "cell_type": "code",
   "execution_count": 34,
   "id": "b58805f0",
   "metadata": {},
   "outputs": [
    {
     "data": {
      "text/plain": [
       "3"
      ]
     },
     "execution_count": 34,
     "metadata": {},
     "output_type": "execute_result"
    }
   ],
   "source": [
    "len(FROM[SA:EA])"
   ]
  }
 ],
 "metadata": {
  "kernelspec": {
   "display_name": "Python 3 (ipykernel)",
   "language": "python",
   "name": "python3"
  },
  "language_info": {
   "codemirror_mode": {
    "name": "ipython",
    "version": 3
   },
   "file_extension": ".py",
   "mimetype": "text/x-python",
   "name": "python",
   "nbconvert_exporter": "python",
   "pygments_lexer": "ipython3",
   "version": "3.10.12"
  }
 },
 "nbformat": 4,
 "nbformat_minor": 5
}
