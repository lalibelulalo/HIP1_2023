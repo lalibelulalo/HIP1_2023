{
 "cells": [
  {
   "cell_type": "code",
   "execution_count": 1,
   "id": "ecc7ba53",
   "metadata": {},
   "outputs": [],
   "source": [
    "def OctanucGen(Nucs):\n",
    "    pals = [Nucs[i]+Nucs[j]+Nucs[k]+Nucs[l]+Nucs[-l]+Nucs[-k]+Nucs[-j]+Nucs[-i] for i in range(1,(len(Nucs))) for j in range(1,(len(Nucs))) for k in range(1,(len(Nucs))) for l in range(1,(len(Nucs)))]\n",
    "    return(pals)"
   ]
  },
  {
   "cell_type": "code",
   "execution_count": 2,
   "id": "b36acb9e",
   "metadata": {},
   "outputs": [],
   "source": [
    "Nucs = [\"N\",\"A\",\"G\",\"C\",\"T\"]"
   ]
  },
  {
   "cell_type": "code",
   "execution_count": 12,
   "id": "dfb6e501",
   "metadata": {},
   "outputs": [
    {
     "name": "stdout",
     "output_type": "stream",
     "text": [
      "AGGGCCCT\n",
      "AGGCGCCT\n",
      "AGCGCGCT\n",
      "AGCCGGCT\n",
      "ACGGCCGT\n",
      "ACGCGCGT\n",
      "ACCGCGGT\n",
      "ACCCGGGT\n",
      "GAGGCCTC\n",
      "GAGCGCTC\n",
      "GACGCGTC\n",
      "GACCGGTC\n",
      "GGAGCTCC\n",
      "GGACGTCC\n",
      "GGGATCCC\n",
      "GGGTACCC\n",
      "GGCATGCC\n",
      "GGCTAGCC\n",
      "GGTGCACC\n",
      "GGTCGACC\n",
      "GCAGCTGC\n",
      "GCACGTGC\n",
      "GCGATCGC\n",
      "GCGTACGC\n",
      "GCCATGGC\n",
      "GCCTAGGC\n",
      "GCTGCAGC\n",
      "GCTCGAGC\n",
      "GTGGCCAC\n",
      "GTGCGCAC\n",
      "GTCGCGAC\n",
      "GTCCGGAC\n",
      "CAGGCCTG\n",
      "CAGCGCTG\n",
      "CACGCGTG\n",
      "CACCGGTG\n",
      "CGAGCTCG\n",
      "CGACGTCG\n",
      "CGGATCCG\n",
      "CGGTACCG\n",
      "CGCATGCG\n",
      "CGCTAGCG\n",
      "CGTGCACG\n",
      "CGTCGACG\n",
      "CCAGCTGG\n",
      "CCACGTGG\n",
      "CCGATCGG\n",
      "CCGTACGG\n",
      "CCCATGGG\n",
      "CCCTAGGG\n",
      "CCTGCAGG\n",
      "CCTCGAGG\n",
      "CTGGCCAG\n",
      "CTGCGCAG\n",
      "CTCGCGAG\n",
      "CTCCGGAG\n",
      "TGGGCCCA\n",
      "TGGCGCCA\n",
      "TGCGCGCA\n",
      "TGCCGGCA\n",
      "TCGGCCGA\n",
      "TCGCGCGA\n",
      "TCCGCGGA\n",
      "TCCCGGGA\n"
     ]
    }
   ],
   "source": [
    "G = 0\n",
    "C = 0\n",
    "for i in OctanucGen(Nucs):\n",
    "    for j in i:\n",
    "        if j == \"G\":\n",
    "            G += 1\n",
    "        if j == \"C\":\n",
    "            C += 1\n",
    "    if G == 3 and C == 3:\n",
    "        print (\"{}\".format(i))\n",
    "    G = 0\n",
    "    C = 0"
   ]
  },
  {
   "cell_type": "code",
   "execution_count": 11,
   "id": "a36cf069",
   "metadata": {},
   "outputs": [
    {
     "data": {
      "text/plain": [
       "503"
      ]
     },
     "execution_count": 11,
     "metadata": {},
     "output_type": "execute_result"
    }
   ],
   "source": [
    "G\n"
   ]
  }
 ],
 "metadata": {
  "kernelspec": {
   "display_name": "Python 3 (ipykernel)",
   "language": "python",
   "name": "python3"
  },
  "language_info": {
   "codemirror_mode": {
    "name": "ipython",
    "version": 3
   },
   "file_extension": ".py",
   "mimetype": "text/x-python",
   "name": "python",
   "nbconvert_exporter": "python",
   "pygments_lexer": "ipython3",
   "version": "3.10.12"
  }
 },
 "nbformat": 4,
 "nbformat_minor": 5
}
